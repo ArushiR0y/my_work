{
 "cells": [
  {
   "cell_type": "code",
   "execution_count": null,
   "metadata": {},
   "outputs": [],
   "source": [
    "import pandas as pd\n",
    "import numpy as np \n",
    "import datetime as dt\n",
    "import matplotlib.pyplot as plt\n",
    "import mplfinance as mpf\n",
    "import warnings\n",
    "import math\n",
    "import os\n",
    "# Ignore all warnings\n",
    "warnings.filterwarnings(\"ignore\")"
   ]
  },
  {
   "cell_type": "code",
   "execution_count": null,
   "metadata": {},
   "outputs": [],
   "source": [
    "# Read the CSV file and parse dates\n",
    "df = pd.read_csv(\"Banknifty_Spot_data.csv\", parse_dates=['datetime'])\n",
    "offset = 0\n",
    "# Select the desired columns\n",
    "df = df[['datetime', 'open', 'high', 'low', 'close']]\n",
    "\n",
    "\n",
    "df = df.rename(columns={'datetime': 'Date'})\n",
    "df.set_index('Date', inplace=True)\n",
    "\n"
   ]
  },
  {
   "cell_type": "code",
   "execution_count": null,
   "metadata": {},
   "outputs": [],
   "source": [
    "# # Read your CSV data into a DataFrame\n",
    "# df = pd.read_csv(\"BANKNIFTY24MARFUT.csv\", header=None, names=['Date', 'Time', 'Tick', 'Column1', 'Column2'])\n",
    "\n",
    "# # Convert 'DATE' and 'TIME' columns to datetime and combine them into a single timestamp column\n",
    "# df['Date'] = pd.to_datetime(df['Date'].astype(str) + ' ' + df['Time'])\n",
    "\n",
    "# # Set 'TIMESTAMP' as the index\n",
    "# df.set_index('Date', inplace=True)\n",
    "\n",
    "# # Resample the data to 5-second intervals\n",
    "# resampled_df = df.resample('5S').agg({\n",
    "#     'Tick': ['first', 'max', 'min', 'last']  # Open, High, Low, Close\n",
    "# })\n",
    "\n",
    "# # Flatten the multi-level column index\n",
    "# resampled_df.columns = ['open', 'high', 'low', 'close']\n",
    "\n",
    "# # Drop rows with any missing values\n",
    "# resampled_df.dropna(inplace=True)\n",
    "\n",
    "# # Reset index\n",
    "# resampled_df.reset_index(inplace=True)\n",
    "\n",
    "# # Display the resampled DataFrame\n",
    "# resampled_df\n",
    "\n"
   ]
  },
  {
   "cell_type": "code",
   "execution_count": null,
   "metadata": {},
   "outputs": [],
   "source": [
    "\n",
    "# # Set 'Date' column as index\n",
    "# resampled_df.set_index('Date', inplace=True)\n",
    "\n",
    "# df = resampled_df[resampled_df.index.month == 2]\n",
    "# df = df[-10000:]"
   ]
  },
  {
   "cell_type": "code",
   "execution_count": null,
   "metadata": {},
   "outputs": [],
   "source": [
    "df"
   ]
  },
  {
   "cell_type": "code",
   "execution_count": null,
   "metadata": {},
   "outputs": [],
   "source": [
    "def Supertrend(df, atr_period, multiplier):\n",
    "    high = df['high']\n",
    "    low = df['low']\n",
    "    close = df['close']\n",
    "    \n",
    "    # Calculate ATR\n",
    "    price_diffs = [high - low, \n",
    "                   high - close.shift(), \n",
    "                   close.shift() - low]\n",
    "    true_range = pd.concat(price_diffs, axis=1)\n",
    "    true_range = true_range.abs().max(axis=1)\n",
    "    atr = true_range.ewm(alpha=1/atr_period, min_periods=atr_period).mean() \n",
    "    \n",
    "    # HL2 is simply the average of high and low prices\n",
    "    hl2 = (high + low) / 2\n",
    "    # Upperband and lowerband calculation\n",
    "    final_upperband = upperband = hl2 + (multiplier * atr)\n",
    "    final_lowerband = lowerband = hl2 - (multiplier * atr)\n",
    "    \n",
    "    # Print lengths before the loop\n",
    "    print(\"Lengths before loop:\")\n",
    "    print(\"close:\", len(close))\n",
    "    print(\"final_upperband:\", len(final_upperband))\n",
    "    print(\"final_lowerband:\", len(final_lowerband))\n",
    "    \n",
    "    # Initialize Supertrend column to True\n",
    "    supertrend = [True] * len(df)\n",
    "    \n",
    "    # Initialize buy and sell signals\n",
    "    buy_signal = [0] * len(df)\n",
    "    sell_signal = [0] * len(df)\n",
    "    \n",
    "    for i in range(1, len(df.index)):\n",
    "        curr, prev = i, i - 1\n",
    "        \n",
    "        # Check data length before accessing elements\n",
    "        if curr >= len(close) or prev >= len(close):\n",
    "            break\n",
    "        \n",
    "        # If current close price crosses above upperband\n",
    "        if close[curr] > final_upperband[prev]:\n",
    "            supertrend[curr] = True\n",
    "            buy_signal[curr] = 1\n",
    "        # If current close price crosses below lowerband\n",
    "        elif close[curr] < final_lowerband[prev]:\n",
    "            supertrend[curr] = False\n",
    "            sell_signal[curr] = -1\n",
    "        # Else, the trend continues\n",
    "        else:\n",
    "            supertrend[curr] = supertrend[prev]\n",
    "            \n",
    "            # Adjustment to the final bands\n",
    "            if supertrend[curr] == True and final_lowerband[curr] < final_lowerband[prev]:\n",
    "                final_lowerband[curr] = final_lowerband[prev]\n",
    "            if supertrend[curr] == False and final_upperband[curr] > final_upperband[prev]:\n",
    "                final_upperband[curr] = final_upperband[prev]\n",
    "\n",
    "        # To remove bands according to the trend direction\n",
    "        if supertrend[curr] == True:\n",
    "            final_upperband[curr] = np.nan\n",
    "        else:\n",
    "            final_lowerband[curr] = np.nan\n",
    "    \n",
    "    # Print lengths after the loop\n",
    "    print(\"\\nLengths after loop:\")\n",
    "    print(\"close:\", len(close))\n",
    "    print(\"final_upperband:\", len(final_upperband))\n",
    "    print(\"final_lowerband:\", len(final_lowerband))\n",
    "    \n",
    "    # Assign 'Sell_Put' and 'Sell_Call' values based on buy and sell signals\n",
    "    signal_values = ['' for _ in range(len(df))]\n",
    "    for i in range(len(df)):\n",
    "        if buy_signal[i] == 1:\n",
    "            signal_values[i] = 'PE'\n",
    "        elif sell_signal[i] == -1:\n",
    "            signal_values[i] = 'CE'\n",
    "    # Print lengths of buy and sell signals\n",
    "    print(\"Length of buy_signal:\", len(buy_signal))\n",
    "    print(\"Length of sell_signal:\", len(sell_signal))\n",
    "    \n",
    "    return pd.DataFrame({\n",
    "        'Supertrend': supertrend,\n",
    "        'Final Lowerband': final_lowerband,\n",
    "        'Final Upperband': final_upperband,\n",
    "        'Buy_Signal': buy_signal,\n",
    "        'Sell_Signal': sell_signal,\n",
    "        'Signal_Value': signal_values\n",
    "    }, index=df.index)\n"
   ]
  },
  {
   "cell_type": "code",
   "execution_count": null,
   "metadata": {},
   "outputs": [],
   "source": [
    "# Apply SuperTrend indicator to the DataFrame\n",
    "atr_period = 30\n",
    "atr_multiplier = 10\n",
    "supertrend_df = Supertrend(df, atr_period, atr_multiplier)\n"
   ]
  },
  {
   "cell_type": "code",
   "execution_count": null,
   "metadata": {},
   "outputs": [],
   "source": [
    "# Join the SuperTrend results with the original DataFrame, specifying suffixes\n",
    "df = df.join(supertrend_df, rsuffix='_supertrend')"
   ]
  },
  {
   "cell_type": "code",
   "execution_count": null,
   "metadata": {},
   "outputs": [],
   "source": [
    "# Add a Volume column with zeros\n",
    "df['volume'] = 0\n",
    "\n",
    "# Define the SuperTrend indicator\n",
    "supertrend_lowerband = mpf.make_addplot(df['Final Lowerband'], color='green', alpha=0.3)\n",
    "supertrend_upperband = mpf.make_addplot(df['Final Upperband'], color='red', alpha=0.3)\n",
    "supertrend_fill = mpf.make_addplot(df[['Final Lowerband', 'Final Upperband']], color='gray', alpha=0.2)"
   ]
  },
  {
   "cell_type": "code",
   "execution_count": null,
   "metadata": {},
   "outputs": [],
   "source": [
    "\n",
    "# Define buy and sell signals\n",
    "buy_signal = df[df['Buy_Signal'] == 1]['close']\n",
    "sell_signal = df[df['Sell_Signal'] == -1]['close']"
   ]
  },
  {
   "cell_type": "code",
   "execution_count": null,
   "metadata": {},
   "outputs": [],
   "source": [
    "# Filter the DataFrame based on the condition\n",
    "buy_signal_indices = np.where(df['Buy_Signal'] != 0)[0]\n",
    "sell_signal_indices = np.where(df['Sell_Signal'] != 0)[0]\n",
    "\n",
    "# Merge the indices\n",
    "merged_indices = np.concatenate((buy_signal_indices, sell_signal_indices))\n",
    "\n",
    "# Filtered DataFrame\n",
    "filtered_df = df.iloc[merged_indices]\n",
    "\n",
    "# Sort the DataFrame based on the index (assuming 'Date' is the index)\n",
    "filtered_df = filtered_df.sort_index()\n",
    "\n",
    "# Reset the index of filtered_df\n",
    "filtered_df.reset_index(inplace=True)\n",
    "\n",
    "# Shift the 'Date' column by -1 to get the exit time\n",
    "filtered_df['Entry_time'] = filtered_df['Date']\n",
    "filtered_df['Exit_time'] = filtered_df['Date'].shift(-1)\n",
    "filtered_df"
   ]
  },
  {
   "cell_type": "code",
   "execution_count": null,
   "metadata": {},
   "outputs": [],
   "source": [
    "filtered_df.info()"
   ]
  },
  {
   "cell_type": "code",
   "execution_count": null,
   "metadata": {},
   "outputs": [],
   "source": [
    "# Calculate Spot\n",
    "# Round 'close' column to the nearest 100\n",
    "rounded_close = filtered_df['close'].round(-2)\n",
    "\n",
    "# Adjust 'close_spot' based on 'Signal_Value'\n",
    "filtered_df['close_spot'] = rounded_close.copy()  # Create a copy of rounded_close\n",
    "filtered_df.loc[filtered_df['Signal_Value'] == 'CE', 'close_spot'] += offset\n",
    "filtered_df.loc[filtered_df['Signal_Value'] == 'PE', 'close_spot'] -= offset\n",
    "\n",
    "# Round 'Final Upperband' or 'Final Lowerband' column to the nearest 100\n",
    "filtered_df['Supertrend_spot'] = np.where(filtered_df['Final Upperband'].notnull(),\n",
    "                                          filtered_df['Final Upperband'].round(-2),\n",
    "                                          filtered_df['Final Lowerband'].round(-2))\n",
    "# Display the modified DataFrame\n",
    "filtered_df"
   ]
  },
  {
   "cell_type": "code",
   "execution_count": null,
   "metadata": {},
   "outputs": [],
   "source": [
    "filtered_df.set_index('Date', inplace=True)\n",
    "\n",
    "# Extract year, month, and day from the index\n",
    "year = filtered_df.index.year.astype(str).str[-2:]\n",
    "month = filtered_df.index.month.astype(str).str.zfill(2)\n",
    "day = filtered_df.index.day.astype(str).str.zfill(2)\n",
    "\n",
    "# Convert close_spot to integer and then string\n",
    "close_spot = filtered_df['close_spot'].astype(int).astype(str)\n",
    "\n",
    "Supertrend_spot = filtered_df['Supertrend_spot'].astype(int).astype(str)\n",
    "\n",
    "# Extract CE or PE from Signal_Value column\n",
    "strike_type = filtered_df['Signal_Value'].str[-2:]"
   ]
  },
  {
   "cell_type": "code",
   "execution_count": null,
   "metadata": {},
   "outputs": [],
   "source": [
    "# Strategy 1 -------> Selling Supertrend_spot Strike\n",
    "\n",
    "#filtered_df['sell_strike_symbol'] = 'BANKNIFTY' + year + month + day + Supertrend_spot + strike_type\n",
    "\n",
    "\n",
    "# Strategy 2 -------> Selling close_spot Strike\n",
    "filtered_df['sell_strike_symbol'] = 'BANKNIFTY' + year + month + day + close_spot + strike_type\n",
    "\n"
   ]
  },
  {
   "cell_type": "code",
   "execution_count": null,
   "metadata": {},
   "outputs": [],
   "source": [
    "# Drop the last row\n",
    "filtered_df = filtered_df.drop(filtered_df.index[-1])\n",
    "filtered_df"
   ]
  },
  {
   "cell_type": "code",
   "execution_count": null,
   "metadata": {},
   "outputs": [],
   "source": [
    "import os\n",
    "\n",
    "def find_premium_at_time(file_path, timestamp):\n",
    "    try:\n",
    "        data = pd.read_csv(file_path, header=None, usecols=[0, 1, 2], names=['Date', 'Time', 'Tick'])\n",
    "        data['Timestamp'] = pd.to_datetime(data['Date'].astype(str) + ' ' + data['Time'], errors='coerce')\n",
    "        idx = data['Timestamp'].sub(timestamp).abs().idxmin() \n",
    "        premium = data.loc[idx, 'Tick']\n",
    "        return premium\n",
    "    except FileNotFoundError:\n",
    "        return None\n",
    "\n",
    "def process_data(filtered_df, directory):\n",
    "    for index, row in filtered_df.iterrows():\n",
    "        sell_strike_symbol = row['sell_strike_symbol']\n",
    "        entry_time = pd.Timestamp(row['Entry_time']) + pd.Timedelta(minutes=1)\n",
    "        exit_time = pd.Timestamp(row['Exit_time']) + pd.Timedelta(minutes=1)\n",
    "        \n",
    "        # Construct file path\n",
    "        file_path = os.path.join(directory, f\"{sell_strike_symbol}.csv\")\n",
    "        \n",
    "        try:\n",
    "            # Find sell premium at entry time\n",
    "            sell_premium = find_premium_at_time(file_path, entry_time)\n",
    "            filtered_df.at[index, 'sell_premium'] = sell_premium\n",
    "            \n",
    "            # Find buy premium at exit time\n",
    "            buy_premium = find_premium_at_time(file_path, exit_time)\n",
    "            filtered_df.at[index, 'buy_premium'] = buy_premium\n",
    "        except Exception as e:\n",
    "            print(f\"An error occurred for file '{file_path}': {e}\")\n",
    "            continue  # Skip to the next iteration if an error occurs\n",
    "        \n",
    "    return filtered_df\n",
    "\n",
    "# Example usage\n",
    "directory = r'C:\\Users\\user\\Desktop\\Workspace\\BANKNIFTY Options'\n",
    "\n",
    "print(\"Before calling find_premium_at_time function\")\n",
    "processed_df = process_data(filtered_df, directory)\n",
    "print(\"After calling find_premium_at_time function\")\n",
    "print(processed_df)\n",
    "\n"
   ]
  },
  {
   "cell_type": "code",
   "execution_count": null,
   "metadata": {},
   "outputs": [],
   "source": [
    "processed_df['P&L'] = processed_df['sell_premium'] - processed_df['buy_premium']"
   ]
  },
  {
   "cell_type": "code",
   "execution_count": null,
   "metadata": {},
   "outputs": [],
   "source": [
    "report_df = processed_df[['Entry_time','Exit_time','sell_strike_symbol','sell_premium','buy_premium','P&L']]\n",
    "report_df.dropna(inplace=True)\n",
    "report_df['cumm'] = report_df['P&L'].cumsum()\n"
   ]
  },
  {
   "cell_type": "code",
   "execution_count": null,
   "metadata": {},
   "outputs": [],
   "source": [
    "report_df"
   ]
  },
  {
   "cell_type": "code",
   "execution_count": null,
   "metadata": {},
   "outputs": [],
   "source": [
    "report_df['cumm'].plot()"
   ]
  },
  {
   "cell_type": "code",
   "execution_count": null,
   "metadata": {},
   "outputs": [],
   "source": [
    "report_df.to_excel(\"BNF_Supertrend_ATM.xlsx\", index=False)\n"
   ]
  },
  {
   "cell_type": "code",
   "execution_count": null,
   "metadata": {},
   "outputs": [],
   "source": [
    "\n",
    "# # Set the figure size\n",
    "# plt.figure(figsize=(16, 10))  # Adjust the width and height as needed\n",
    "\n",
    "# # Plot candlestick data with SuperTrend indicators\n",
    "# mpf.plot(df, type='candle', style='charles', volume=True, title='Candlestick Chart with SuperTrend Indicator',\n",
    "#          ylabel='Price', ylabel_lower='Volume', addplot=[supertrend_lowerband, supertrend_upperband, supertrend_fill])\n"
   ]
  },
  {
   "cell_type": "code",
   "execution_count": null,
   "metadata": {},
   "outputs": [],
   "source": [
    "\n",
    "\n",
    "# # Set the figure size\n",
    "# plt.figure(figsize=(16, 10))  # Adjust the width and height as needed\n",
    "\n",
    "# # Plot candlestick data with SuperTrend indicators\n",
    "# mpf.plot(df, type='candle', style='charles', volume=True, title='Candlestick Chart with SuperTrend Indicator',\n",
    "#          ylabel='Price', ylabel_lower='Volume', addplot=[supertrend_lowerband, supertrend_upperband, supertrend_fill])\n",
    "\n",
    "\n"
   ]
  },
  {
   "cell_type": "code",
   "execution_count": null,
   "metadata": {},
   "outputs": [],
   "source": [
    "# # Plot buy signals if they exist\n",
    "# if not buy_signal.empty:\n",
    "#     plt.scatter(buy_signal.index, buy_signal, marker='^', color='green', s=100, label='Buy Signal')\n",
    "\n",
    "# # Plot sell signals if they exist\n",
    "# if not sell_signal.empty:\n",
    "#     plt.scatter(sell_signal.index, sell_signal, marker='v', color='red', s=100, label='Sell Signal')\n",
    "\n",
    "# # Show legend\n",
    "# plt.legend()\n",
    "\n",
    "# # Show the combined plot\n",
    "# plt.show()\n"
   ]
  }
 ],
 "metadata": {
  "kernelspec": {
   "display_name": "base",
   "language": "python",
   "name": "python3"
  },
  "language_info": {
   "codemirror_mode": {
    "name": "ipython",
    "version": 3
   },
   "file_extension": ".py",
   "mimetype": "text/x-python",
   "name": "python",
   "nbconvert_exporter": "python",
   "pygments_lexer": "ipython3",
   "version": "3.11.undefined"
  }
 },
 "nbformat": 4,
 "nbformat_minor": 2
}
